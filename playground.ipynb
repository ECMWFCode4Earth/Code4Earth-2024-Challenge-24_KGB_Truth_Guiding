{
 "cells": [
  {
   "cell_type": "code",
   "execution_count": null,
   "metadata": {},
   "outputs": [],
   "source": [
    "from backend.kg_generation.generator import KGGenerator\n",
    "from pathlib import Path"
   ]
  },
  {
   "cell_type": "markdown",
   "metadata": {},
   "source": [
    "# Example using KGGenerator\n",
    "(ongoing work)"
   ]
  },
  {
   "cell_type": "code",
   "execution_count": null,
   "metadata": {},
   "outputs": [],
   "source": [
    "kg_generator = KGGenerator(\"llama3:70b-instruct-q3_K_L\")\n",
    "toy_data = Path(\"/home/user/large-disk/toy_data\")\n",
    "labels = None\n",
    "for page_number in range(3, 10):\n",
    "    print(f\"Processing page {page_number}\")\n",
    "    with open(toy_data / f\"output_{page_number}.txt\", \"r\", encoding=\"utf-8\") as f:\n",
    "        text = f.readlines()\n",
    "        text = \" \".join(text)\n",
    "    sub_kg = kg_generator.from_text(text, labels)\n",
    "    print(\"Done!\")\n",
    "    kg_generator.add_kg(sub_kg)\n",
    "    labels = kg_generator.entitydb.get_label_set_as_str()"
   ]
  },
  {
   "cell_type": "code",
   "execution_count": null,
   "metadata": {},
   "outputs": [],
   "source": [
    "kg_generator.save_kg_as_json(\"./assets/toy_kg_cleaned.json\")"
   ]
  }
 ],
 "metadata": {
  "kernelspec": {
   "display_name": "dev",
   "language": "python",
   "name": "python3"
  },
  "language_info": {
   "codemirror_mode": {
    "name": "ipython",
    "version": 3
   },
   "file_extension": ".py",
   "mimetype": "text/x-python",
   "name": "python",
   "nbconvert_exporter": "python",
   "pygments_lexer": "ipython3",
   "version": "3.10.14"
  }
 },
 "nbformat": 4,
 "nbformat_minor": 2
}
