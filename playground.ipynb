{
 "cells": [
  {
   "cell_type": "code",
   "execution_count": null,
   "metadata": {},
   "outputs": [],
   "source": [
    "from backend.kg_generation.generator import KGGenerator\n",
    "from pathlib import Path"
   ]
  },
  {
   "cell_type": "markdown",
   "metadata": {},
   "source": [
    "# Example using KGGenerator\n",
    "(ongoing work)"
   ]
  },
  {
   "cell_type": "code",
   "execution_count": null,
   "metadata": {},
   "outputs": [],
   "source": [
    "from langchain_community.document_loaders import PyPDFLoader\n",
    "\n",
    "file_path = (\n",
    "    \"../../ddwf_papers/fuxi.pdf\"\n",
    ")\n",
    "loader = PyPDFLoader(file_path)"
   ]
  },
  {
   "cell_type": "code",
   "execution_count": null,
   "metadata": {},
   "outputs": [],
   "source": [
    "kg_generator = KGGenerator(\"llama3:70b-instruct-q3_K_L\")\n",
    "pages = loader.load_and_split(kg_generator.get_text_splitter())\n",
    "toy_data = Path(\"/home/user/large-disk/toy_data\")\n",
    "labels = None\n",
    "for page_number, page in enumerate(pages):\n",
    "    print(f\"Processing page {page_number}\")\n",
    "    text = page.page_content.replace(\"\\n\", \" \")\n",
    "    sub_kg = kg_generator.from_text(text, labels)\n",
    "    print(\"Done!\")\n",
    "    kg_generator.add_kg(sub_kg)\n",
    "    labels = kg_generator.entitydb.get_label_set_as_str()"
   ]
  },
  {
   "cell_type": "code",
   "execution_count": null,
   "metadata": {},
   "outputs": [],
   "source": [
    "kg_generator.save_kg_as_json(\"./assets/toy_kg_cleaned.json\")"
   ]
  }
 ],
 "metadata": {
  "kernelspec": {
   "display_name": "dev",
   "language": "python",
   "name": "python3"
  },
  "language_info": {
   "codemirror_mode": {
    "name": "ipython",
    "version": 3
   },
   "file_extension": ".py",
   "mimetype": "text/x-python",
   "name": "python",
   "nbconvert_exporter": "python",
   "pygments_lexer": "ipython3",
   "version": "3.10.14"
  }
 },
 "nbformat": 4,
 "nbformat_minor": 2
}
