{
 "cells": [
  {
   "cell_type": "code",
   "execution_count": 1,
   "metadata": {},
   "outputs": [],
   "source": [
    "import fitz"
   ]
  },
  {
   "cell_type": "code",
   "execution_count": 3,
   "metadata": {},
   "outputs": [],
   "source": [
    "doc = fitz.open(\"../example.pdf\")\n",
    "for pageNumber, page in enumerate(doc.pages(), start=1):\n",
    "    if pageNumber > 2 and pageNumber < 10:\n",
    "        text = page.get_text().encode(\"utf8\")\n",
    "        with open(f\"../texts/output_{pageNumber}.txt\", \"wb\") as out:\n",
    "            out.write(text)  # write text of page\n",
    "            out.write(bytes((12,)))  # write page delimiter (form feed 0x0C)"
   ]
  },
  {
   "cell_type": "code",
   "execution_count": 4,
   "metadata": {},
   "outputs": [
    {
     "name": "stdout",
     "output_type": "stream",
     "text": [
      "Assessing the impact of observations \n",
      " \n",
      " \n",
      " \n",
      "Technical Memorandum No. 916  \n",
      " \n",
      " \n",
      " \n",
      "3 \n",
      "Abstract \n",
      " \n",
      "We review the assessment of existing observations with Observing System Experiments (OSEs) and the \n",
      "Forecast Sensitivity to Observation Impact (FSOI) approach. Although care is needed when interpreting their \n",
      "results, the information they provide is largely consistent. The Ensemble of Data Assimilations (EDA) provides \n",
      "an affordable and manageable framework for simulating the impact of future observing systems. Recent \n",
      "experience comparing EDA predictions with the subsequent impact of real measurements gives us some \n",
      "confidence that, with appropriate interpretation and care, they provide useful information that can help guide \n",
      "the future evolution of the global observing system. \n",
      "Plain Language Summary \n",
      " \n",
      "This “Special Topic Paper” was originally presented to the ECMWF Science Advisory Committee (SAC) in \n",
      "October 2022. It has been reproduced here, with minor editorial changes, as an ECMWF Technical \n",
      "Memorandum to enable broader access to the document.  \n",
      "The central question addressed in the paper is: How can we predict the potential impact of future observations \n",
      "on the quality weather forecasts produced with numerical weather prediction systems? This is clearly \n",
      "fundamental when trying to plan how the global observing system (GOS) should evolve, but it is extremely \n",
      "difficult to address in practice. To provide appropriate context, this paper starts by reviewing how the impact \n",
      "of the current, real observations is assessed, emphasising that this apparently straightforward task requires \n",
      "considerable skill and care when interpreting the results. We then discuss the use of ensemble methods \n",
      "introduced by ECMWF in 2007 designed to predict the impact of the future observations on theoretical \n",
      "estimates of analysis and short-range forecast error statistics. The strengths and weaknesses of these ensemble \n",
      "methods are discussed, and examples using both current, real and future satellite observations are presented.     \n",
      " \n",
      " \n",
      " \n",
      "\f\n"
     ]
    }
   ],
   "source": [
    "# Program to read the entire file using read() function\n",
    "file = open(\"../texts/output_3.txt\", \"r\")\n",
    "content = file.read()\n",
    "print(content)\n",
    "file.close()"
   ]
  },
  {
   "cell_type": "code",
   "execution_count": 5,
   "metadata": {},
   "outputs": [],
   "source": [
    "import camelot"
   ]
  },
  {
   "cell_type": "code",
   "execution_count": 6,
   "metadata": {},
   "outputs": [],
   "source": [
    "\n",
    "tables = camelot.read_pdf(\"../example.pdf\")"
   ]
  },
  {
   "cell_type": "code",
   "execution_count": 7,
   "metadata": {},
   "outputs": [],
   "source": [
    "import tabula\n",
    "import os\n",
    "from tabula.io import read_pdf"
   ]
  },
  {
   "cell_type": "code",
   "execution_count": 9,
   "metadata": {},
   "outputs": [
    {
     "name": "stderr",
     "output_type": "stream",
     "text": [
      "Jun 02, 2024 7:14:35 PM org.apache.pdfbox.pdmodel.font.PDSimpleFont toUnicode\n",
      "WARNING: No Unicode mapping for 10 (36) in font AAAABI+CambriaMath\n",
      "Jun 02, 2024 7:14:35 PM org.apache.pdfbox.pdmodel.font.PDSimpleFont toUnicode\n",
      "WARNING: No Unicode mapping for 5 (37) in font AAAABI+CambriaMath\n",
      "Jun 02, 2024 7:14:35 PM org.apache.pdfbox.pdmodel.font.PDSimpleFont toUnicode\n",
      "WARNING: No Unicode mapping for 7 (38) in font AAAABI+CambriaMath\n",
      "Jun 02, 2024 7:14:35 PM org.apache.pdfbox.pdmodel.font.PDSimpleFont toUnicode\n",
      "WARNING: No Unicode mapping for 4 (40) in font AAAABI+CambriaMath\n",
      "Jun 02, 2024 7:14:37 PM org.apache.pdfbox.pdmodel.font.PDSimpleFont toUnicode\n",
      "WARNING: No Unicode mapping for 8 (41) in font AAAABI+CambriaMath\n",
      "Jun 02, 2024 7:14:37 PM org.apache.pdfbox.pdmodel.font.PDSimpleFont toUnicode\n",
      "WARNING: No Unicode mapping for 26 (51) in font AAAABG+CambriaMath\n",
      "Jun 02, 2024 7:14:37 PM org.apache.pdfbox.pdmodel.font.PDSimpleFont toUnicode\n",
      "WARNING: No Unicode mapping for 27 (54) in font AAAABG+CambriaMath\n",
      "Jun 02, 2024 7:14:37 PM org.apache.pdfbox.pdmodel.font.PDSimpleFont toUnicode\n",
      "WARNING: No Unicode mapping for 28 (55) in font AAAABG+CambriaMath\n",
      "Jun 02, 2024 7:14:37 PM org.apache.pdfbox.pdmodel.font.PDSimpleFont toUnicode\n",
      "WARNING: No Unicode mapping for 9 (42) in font AAAABI+CambriaMath\n",
      "Jun 02, 2024 7:14:37 PM org.apache.pdfbox.pdmodel.font.PDSimpleFont toUnicode\n",
      "WARNING: No Unicode mapping for 6 (43) in font AAAABI+CambriaMath\n",
      "Jun 02, 2024 7:14:37 PM org.apache.pdfbox.pdmodel.font.PDSimpleFont toUnicode\n",
      "WARNING: No Unicode mapping for 3 (44) in font AAAABI+CambriaMath\n"
     ]
    }
   ],
   "source": [
    "\n",
    "# read PDF file\n",
    "tables = read_pdf(\"../example.pdf\", pages=\"all\")"
   ]
  },
  {
   "cell_type": "code",
   "execution_count": 49,
   "metadata": {},
   "outputs": [],
   "source": [
    "# os.makedirs('tables', exist_ok = True) \n",
    "for table_idx in range(len(tables)):\n",
    "    tables[table_idx].to_csv(f\"../tables/output_{table_idx}.csv\")\n",
    "    "
   ]
  }
 ],
 "metadata": {
  "kernelspec": {
   "display_name": "dev",
   "language": "python",
   "name": "python3"
  },
  "language_info": {
   "codemirror_mode": {
    "name": "ipython",
    "version": 3
   },
   "file_extension": ".py",
   "mimetype": "text/x-python",
   "name": "python",
   "nbconvert_exporter": "python",
   "pygments_lexer": "ipython3",
   "version": "3.10.14"
  },
  "orig_nbformat": 4
 },
 "nbformat": 4,
 "nbformat_minor": 2
}
