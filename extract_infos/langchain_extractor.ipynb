{
 "cells": [
  {
   "cell_type": "code",
   "execution_count": null,
   "metadata": {},
   "outputs": [],
   "source": [
    "from langchain_community.document_loaders import PyMuPDFLoader\n",
    "\n",
    "loader = PyMuPDFLoader(\"/home/user/large-disk/viet/Code4Earth-2024-Challenge-24/7931-all-sky-assimilation-ssmis-humidity-sounding-channels-over-land-within-ecmwf-system.pdf\")\n",
    "data = loader.load()\n",
    "data[0]"
   ]
  },
  {
   "cell_type": "code",
   "execution_count": null,
   "metadata": {},
   "outputs": [],
   "source": [
    "\n",
    "print(data[6].page_content)\n",
    "print(data[7].page_content)"
   ]
  },
  {
   "cell_type": "code",
   "execution_count": null,
   "metadata": {},
   "outputs": [],
   "source": [
    "with open(\"/home/user/large-disk/crawled_resources/reports/7931-all-sky-assimilation-ssmis-humidity-sounding-channels-over-land-within-ecmwf-system/texts/output_6.txt\", \"r\") as file:\n",
    "    lines = file.readlines()\n",
    "    print(lines[-2])\n",
    "    print(lines[-3])\n",
    "    \n",
    "\n"
   ]
  }
 ],
 "metadata": {
  "kernelspec": {
   "display_name": "dev",
   "language": "python",
   "name": "python3"
  },
  "language_info": {
   "codemirror_mode": {
    "name": "ipython",
    "version": 3
   },
   "file_extension": ".py",
   "mimetype": "text/x-python",
   "name": "python",
   "nbconvert_exporter": "python",
   "pygments_lexer": "ipython3",
   "version": "3.10.14"
  }
 },
 "nbformat": 4,
 "nbformat_minor": 2
}
