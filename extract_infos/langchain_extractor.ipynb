{
 "cells": [
  {
   "cell_type": "code",
   "execution_count": 1,
   "metadata": {},
   "outputs": [
    {
     "data": {
      "text/plain": [
       "Document(page_content='EUMETSAT/ECMWF Fellowship Programme\\nResearch Report No. 38\\nAll-sky\\nassimilation\\nof\\nSSMIS\\nhumidity\\nsounding channels over land within the\\nECMWF system\\nFabrizio Baordo and Alan J. Geer\\nJuly 2015\\nTo be submitted to Quarterly Journal of the Royal Meteorological Society\\n', metadata={'source': '/home/user/large-disk/viet/Code4Earth-2024-Challenge-24/7931-all-sky-assimilation-ssmis-humidity-sounding-channels-over-land-within-ecmwf-system.pdf', 'file_path': '/home/user/large-disk/viet/Code4Earth-2024-Challenge-24/7931-all-sky-assimilation-ssmis-humidity-sounding-channels-over-land-within-ecmwf-system.pdf', 'page': 0, 'total_pages': 28, 'format': 'PDF 1.5', 'title': '', 'author': '', 'subject': '', 'keywords': '', 'creator': 'LaTeX with hyperref package', 'producer': 'pdfTeX-1.40.15', 'creationDate': \"D:20150713091002+01'00'\", 'modDate': \"D:20150720140946+01'00'\", 'trapped': ''})"
      ]
     },
     "execution_count": 1,
     "metadata": {},
     "output_type": "execute_result"
    }
   ],
   "source": [
    "from langchain_community.document_loaders import PyMuPDFLoader\n",
    "\n",
    "loader = PyMuPDFLoader(\"/home/user/large-disk/viet/Code4Earth-2024-Challenge-24/7931-all-sky-assimilation-ssmis-humidity-sounding-channels-over-land-within-ecmwf-system.pdf\")\n",
    "data = loader.load()\n",
    "data[0]"
   ]
  },
  {
   "cell_type": "code",
   "execution_count": 5,
   "metadata": {},
   "outputs": [
    {
     "name": "stdout",
     "output_type": "stream",
     "text": [
      "All-sky assimilation of SSMIS humidity sounding channels over land\n",
      " \n",
      "−10\n",
      "0\n",
      "10\n",
      "20\n",
      "30\n",
      "Observed SI [91H − 150H]\n",
      "0\n",
      "1\n",
      "2\n",
      "3\n",
      "4\n",
      "Mean [kg/m\n",
      "2]\n",
      " \n",
      "−10\n",
      "0\n",
      "10\n",
      "20\n",
      "30\n",
      "Simulated SI [91H − 150H]\n",
      "0\n",
      "1\n",
      "2\n",
      "3\n",
      "4\n",
      "Mean [kg/m\n",
      "2]\n",
      "LHC+IHC\n",
      "IHC\n",
      "a\n",
      "b\n",
      "Figure 1: Mean of total (solid line) and ice (dashed-dotted line) hydrometeor content (kg m−2) binned as a function of the\n",
      "observed (a) and the simulated (b) scattering index. The liquid hydrometeor content (LHC) is given by the sum of model\n",
      "FG cloud water and rain, while the ice hydrometeor content (IHC) takes into account cloud ice and snow. Sample of\n",
      "SSMIS data is for the month of June 2013 considering observations over land restricted to latitudes equatorward of 60◦.\n",
      "Bin size is 0.5 K.\n",
      "Over land, the 37 GHz polarisation difference cannot be used as a cloud predictor for the symmetric error\n",
      "model, as it relies on the highly polarised nature of ocean surface emission. Instead, the greatest atmospheric\n",
      "signal from hydrometeors comes in the higher frequencies from snow, so the scattering index (SI, e.g. Bennartz\n",
      "et al., 2002; Bennartz and Bauer, 2003), is a good parameter to identify precipitation and convective areas. A\n",
      "SI given by the difference between SSMIS channel 18 (91H) and channel 8 (150H) was found to give good\n",
      "performance as a symmetric predictor for the observation error model. (Baordo et al., 2012).\n",
      "To check the capability of the SI to identify clear-sky areas as well as regions affected by clouds and precip-\n",
      "itation, we can compare the modelled SI to the total hydrometeor content in the model, given by the sum of\n",
      "the model FG cloud water, cloud ice, rain and snow. We can also distinguish between the liquid hydrometeor\n",
      "content (LHC), considering only cloud water and rain, and the ice hydrometeor content (IHC), taking into ac-\n",
      "count only cloud ice and snow. Fig. 1b shows that the model’s mean hydrometeor content is approximately a\n",
      "linear function of the simulated SI. Cloud-free regions (zero hydrometeor content) are characterised by SI less\n",
      "than 0 K, while for increasing values of SI, the hydrometeor content increases as well, representing the increas-\n",
      "ing inﬂuence of scattering as the modelled cloud and precipitation amount increases. The IHC and the total\n",
      "hydrometeor content are relatively similar, suggesting that the LHC adds little information to the main signal,\n",
      "which comes from cloud ice and snow and appears to be well identiﬁed by the SI. There is not such an obvious\n",
      "link between the observed SI and the IHC (Fig. 1a). This is the consequence of ‘mislocation’ errors. There are\n",
      "some cases where the observation is cloudy (higher scattering index), but there is no corresponding cloud in\n",
      "the model, counterbalanced by other cases where the observation is cloud-free (lower scattering index), but the\n",
      "model has cloud.\n",
      "Research Report No. 38\n",
      "5\n",
      "\n",
      "All-sky assimilation of SSMIS humidity sounding channels over land\n",
      " \n",
      "−10\n",
      "0\n",
      "10\n",
      "20\n",
      "30\n",
      "SIsym [91H − 150H]\n",
      "0\n",
      "10\n",
      "20\n",
      "30\n",
      "40\n",
      "50\n",
      "60\n",
      "Error [K]\n",
      "Figure 2: Error model for SSMIS channel 9 (183±7 GHz), showing how the standard deviations of FG departures binned\n",
      "as a function of the symmetric scattering index (solid line) are modelled by a linear ﬁt (dotted line). FG departures are\n",
      "for the month of June 2013 considering SSMIS observations over land restricted to latitudes equatorward of 60◦. Bin size\n",
      "is 0.5 K.\n",
      "We can now derive the observation error formulation from the symmetric scattering index SIsym, which is\n",
      "the mean of the observed and the simulated SI. Fig. 2 gives an example of how the standard deviations of\n",
      "SSMIS channel 9 FG departures have been binned as a function of SIsym; results for SSMIS channel 10 and\n",
      "11 are similar in shape if not magnitude (not shown). For low scattering indexes, i.e. the clear-sky regime,\n",
      "the standard deviation is relatively constant at around 3 K. As the symmetric mean SI increases, so does the\n",
      "standard deviation. This increase is reasonably well-modelled by a straight line. However, beyond a certain\n",
      "threshold the errors seem to saturate. This behaviour is modelled by a piece-wise linear ﬁt that is estimated\n",
      "graphically and shown on the ﬁgure. For this channel the model has a minimum clear-sky standard deviation\n",
      "Emin of 3 K and a maximum Emax of 57 K in strongly scattering situations. The start and end points of the\n",
      "up-slope are labelled SIclr and SIcld, with standard deviation of FG departures Terr being predicted as follows:\n",
      "Terr = Emin ∈SIsym ≤SIclr;\n",
      "(2)\n",
      "Terr = Emax +(Emax −Emin)SIsym −SIclr\n",
      "SIcld −SIclr\n",
      "∈SIclr < SIsym < SIcld;\n",
      "(3)\n",
      "Terr = Emax ∈SIsym ≥SIcld.\n",
      "(4)\n",
      "The standard deviation of the FG departures is a combination of background error and observation error, so to\n",
      "convert Terr to a predicted observation error, we subtract (in quadrature) an estimated background error. This is\n",
      "1 K for all channels, converting a clear sky FG departure standard deviation of 3 K into an observation error of\n",
      "2.8 K. This is a little larger than the constant observation error of 2 K which has been used to assimilate MHS\n",
      "humidity sounding observations over both land and ocean in clear-sky. The slightly larger observation error\n",
      "reﬂects the standard deviations in situations where SI is around 0 K; it is a cautious approach to assimilating\n",
      "all-sky SSMIS data over land, even when nominally in clear skies. The effectiveness of the observation error is\n",
      "discussed later in Sect. 4.2.\n",
      "6\n",
      "Research Report No. 38\n",
      "\n"
     ]
    }
   ],
   "source": [
    "\n",
    "print(data[6].page_content)\n",
    "print(data[7].page_content)"
   ]
  },
  {
   "cell_type": "code",
   "execution_count": 10,
   "metadata": {},
   "outputs": [
    {
     "name": "stdout",
     "output_type": "stream",
     "text": [
      "Research Report No. 38\n",
      "\n",
      "4\n",
      "\n"
     ]
    }
   ],
   "source": [
    "with open(\"/home/user/large-disk/crawled_resources/reports/7931-all-sky-assimilation-ssmis-humidity-sounding-channels-over-land-within-ecmwf-system/texts/output_6.txt\", \"r\") as file:\n",
    "    lines = file.readlines()\n",
    "    print(lines[-2])\n",
    "    print(lines[-3])\n",
    "    \n",
    "\n"
   ]
  }
 ],
 "metadata": {
  "kernelspec": {
   "display_name": "dev",
   "language": "python",
   "name": "python3"
  },
  "language_info": {
   "codemirror_mode": {
    "name": "ipython",
    "version": 3
   },
   "file_extension": ".py",
   "mimetype": "text/x-python",
   "name": "python",
   "nbconvert_exporter": "python",
   "pygments_lexer": "ipython3",
   "version": "3.10.14"
  }
 },
 "nbformat": 4,
 "nbformat_minor": 2
}
